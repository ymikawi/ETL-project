{
 "cells": [
  {
   "cell_type": "markdown",
   "metadata": {},
   "source": [
    "Address, City, Zip code\n",
    "Number of bedrooms and bathrooms\n",
    "Size of the house and Square footage\n",
    "Year built\n",
    "Sale price "
   ]
  },
  {
   "cell_type": "code",
   "execution_count": 10,
   "metadata": {},
   "outputs": [],
   "source": [
    "#Importing packages\n",
    "from bs4 import BeautifulSoup \n",
    "from splinter import Browser\n",
    "from splinter.exceptions import ElementDoesNotExist\n",
    "import regex as re\n",
    "import time\n",
    "import numpy as np\n",
    "import pandas as pd"
   ]
  },
  {
   "cell_type": "code",
   "execution_count": 11,
   "metadata": {},
   "outputs": [],
   "source": [
    "executable_path = {'executable_path': 'C:\\\\Users\\\\debor\\\\GWARL201811DATA3\\\\01-Class-Activities\\\\12-Web-Scraping-and-Document-Databases\\\\chromedriver.exe'}\n",
    "browser = Browser('chrome', **executable_path, headless=False)"
   ]
  },
  {
   "cell_type": "code",
   "execution_count": 12,
   "metadata": {},
   "outputs": [],
   "source": [
    "url='https://www.zillow.com/alexandria-va/houses/'\n",
    "browser.visit(url)\n"
   ]
  },
  {
   "cell_type": "code",
   "execution_count": 32,
   "metadata": {},
   "outputs": [
    {
     "data": {
      "text/plain": [
       "[<a class=\"zsg-photo-card-overlay-link routable hdp-link routable mask hdp-link\" href=\"/homedetails/229-N-Henry-St-Alexandria-VA-22314/192120889_zpid/\"></a>,\n",
       " <a class=\"zsg-photo-card-overlay-link routable hdp-link show-lightbox mask\" data-after-auth-action-type=\"Event\" data-after-auth-event=\"authSuccessNotify\" data-za-label=\"Camo Map List\" href=\"/homedetail/AuthRequired.htm?r=pfc&amp;zpid=249463575\" id=\"register_opener\" rel=\"nofollow\"></a>,\n",
       " <a class=\"zsg-photo-card-overlay-link routable hdp-link routable mask hdp-link\" href=\"/homedetails/4431-Venable-Ave-Alexandria-VA-22304/192133410_zpid/\"></a>,\n",
       " <a class=\"zsg-photo-card-overlay-link routable hdp-link routable mask hdp-link\" href=\"/homedetails/3301-King-St-Alexandria-VA-22302/192132448_zpid/\"></a>,\n",
       " <a class=\"zsg-photo-card-overlay-link routable hdp-link routable mask hdp-link\" href=\"/homedetails/2508-Leslie-Ave-Alexandria-VA-22301/192125357_zpid/\"></a>]"
      ]
     },
     "execution_count": 32,
     "metadata": {},
     "output_type": "execute_result"
    }
   ],
   "source": [
    "html = browser.html\n",
    "soup = BeautifulSoup(html, \"html.parser\")\n",
    "listings = soup.find_all(\"a\", class_=\"zsg-photo-card-overlay-link\")\n",
    "listings[:5]"
   ]
  },
  {
   "cell_type": "code",
   "execution_count": 33,
   "metadata": {},
   "outputs": [
    {
     "name": "stdout",
     "output_type": "stream",
     "text": [
      "['https://www.zillow.com/alexandria-va/houses//homedetails/229-N-Henry-St-Alexandria-VA-22314/192120889_zpid/', 'https://www.zillow.com/alexandria-va/houses//homedetail/AuthRequired.htm?r=pfc&zpid=249463575', 'https://www.zillow.com/alexandria-va/houses//homedetails/4431-Venable-Ave-Alexandria-VA-22304/192133410_zpid/', 'https://www.zillow.com/alexandria-va/houses//homedetails/3301-King-St-Alexandria-VA-22302/192132448_zpid/', 'https://www.zillow.com/alexandria-va/houses//homedetails/2508-Leslie-Ave-Alexandria-VA-22301/192125357_zpid/', 'https://www.zillow.com/alexandria-va/houses//homedetails/3655-Trinity-Dr-Alexandria-VA-22304/192133694_zpid/', 'https://www.zillow.com/alexandria-va/houses//homedetails/109-Ashby-St-Alexandria-VA-22305/192125680_zpid/', 'https://www.zillow.com/alexandria-va/houses//homedetails/110-S-Pitt-St-Alexandria-VA-22314/2085545498_zpid/', 'https://www.zillow.com/alexandria-va/houses//homedetails/620-Mckenzie-Ave-Alexandria-VA-22301/2085762654_zpid/', 'https://www.zillow.com/alexandria-va/houses//homedetails/1001-Woods-Pl-Alexandria-VA-22302/192132375_zpid/', 'https://www.zillow.com/alexandria-va/houses//homedetails/605-Malcolm-Pl-Alexandria-VA-22302/192129508_zpid/', 'https://www.zillow.com/alexandria-va/houses//homedetails/2415-Davis-Ave-Alexandria-VA-22302/192130801_zpid/', 'https://www.zillow.com/alexandria-va/houses//homedetails/4631-Raleigh-Ave-Alexandria-VA-22304/192134453_zpid/', 'https://www.zillow.com/alexandria-va/houses//homedetails/3002-Farm-Rd-Alexandria-VA-22302/192132917_zpid/', 'https://www.zillow.com/alexandria-va/houses//homedetails/304-Virginia-Ave-Alexandria-VA-22302/192129342_zpid/', 'https://www.zillow.com/alexandria-va/houses//homedetails/31-E-Maple-St-Alexandria-VA-22301/192124201_zpid/', 'https://www.zillow.com/alexandria-va/houses//homedetails/1034-N-Chambliss-St-Alexandria-VA-22312/192137882_zpid/', 'https://www.zillow.com/alexandria-va/houses//homedetails/2502-E-Randolph-Ave-Alexandria-VA-22301/192125383_zpid/', 'https://www.zillow.com/alexandria-va/houses//homedetails/607-Oronoco-St-Alexandria-VA-22314/192122538_zpid/', 'https://www.zillow.com/alexandria-va/houses//homedetails/5139-Echols-Ave-Alexandria-VA-22311/192138327_zpid/', 'https://www.zillow.com/alexandria-va/houses//homedetails/1665-Francis-Hammond-Pkwy-Alexandria-VA-22302/192132035_zpid/', 'https://www.zillow.com/alexandria-va/houses//homedetails/2301-E-Randolph-Ave-Alexandria-VA-22301/192125542_zpid/', 'https://www.zillow.com/alexandria-va/houses//homedetails/56-S-Gordon-St-Alexandria-VA-22304/192133189_zpid/', 'https://www.zillow.com/alexandria-va/houses//homedetails/228-W-Windsor-Ave-Alexandria-VA-22301/192152525_zpid/', 'https://www.zillow.com/alexandria-va/houses//homedetails/224-S-Lee-St-Alexandria-VA-22314/192123640_zpid/']\n"
     ]
    }
   ],
   "source": [
    "\n",
    "house_links = ['https://www.zillow.com/alexandria-va/houses/'+ row['href'] for row in listings]\n",
    "print(house_links)"
   ]
  },
  {
   "cell_type": "code",
   "execution_count": 36,
   "metadata": {},
   "outputs": [],
   "source": [
    "\n",
    "def visit_house_links(url, browser, pages=3):\n",
    "    house_links=[]\n",
    "    browser.visit(url)\n",
    "    \n",
    "    for i in range(pages):\n",
    "        soup = BeautifulSoup(browser.page_source, 'html.parser')\n",
    "        listings = soup.find_all(\"a\", class_=\"zsg-photo-card-overlay-link\")\n",
    "        page_data = ['https://www.zillow.com'+row['href'] for row in listings]\n",
    "        house_links.append(page_data)\n",
    "        house_links = ['https://www.zillow.com/alexandria-va/houses'+ row['href'] for row in listings]\n",
    "        print(house_links)\n",
    "\n",
    "        time.sleep(np.random.lognormal(0,1))\n",
    "        next_button = soup.find_all(\"a\", class_=\"on\")\n",
    "        next_button_link = ['https://www.zillow.com'+row['href'] for row in next_button]\n",
    "        if i<2:\n",
    "            browser.visit(next_button_link[0])\n",
    "        return house_links\n"
   ]
  },
  {
   "cell_type": "code",
   "execution_count": 41,
   "metadata": {},
   "outputs": [
    {
     "name": "stdout",
     "output_type": "stream",
     "text": [
      "[<span class=\"zsg-photo-card-price\">$529,900</span>, <span class=\"zsg-photo-card-price\">$450,000</span>, <span class=\"zsg-photo-card-price\">$599,900</span>, <span class=\"zsg-photo-card-price\">$1,199,000</span>, <span class=\"zsg-photo-card-price\">$799,900</span>, <span class=\"zsg-photo-card-price\">$999,000</span>, <span class=\"zsg-photo-card-price\">$3,750,000</span>, <span class=\"zsg-photo-card-price\">$835,000</span>, <span class=\"zsg-photo-card-price\">$682,000</span>, <span class=\"zsg-photo-card-price\">$1,399,000</span>, <span class=\"zsg-photo-card-price\">$989,000</span>, <span class=\"zsg-photo-card-price\">$569,500</span>, <span class=\"zsg-photo-card-price\">$939,000</span>, <span class=\"zsg-photo-card-price\">$1,775,000</span>, <span class=\"zsg-photo-card-price\">$1,099,000</span>, <span class=\"zsg-photo-card-price\">$549,900</span>, <span class=\"zsg-photo-card-price\">$775,000</span>, <span class=\"zsg-photo-card-price\">$6,900,000</span>, <span class=\"zsg-photo-card-price\">$565,000</span>, <span class=\"zsg-photo-card-price\">$715,000</span>, <span class=\"zsg-photo-card-price\">$1,599,000</span>, <span class=\"zsg-photo-card-price\">$430,000</span>, <span class=\"zsg-photo-card-price\">$2,250,000</span>, <span class=\"zsg-photo-card-price\">$4,495,000</span>]\n"
     ]
    }
   ],
   "source": [
    "#Scrape price data\n",
    "html = browser.html\n",
    "soup = BeautifulSoup(html, \"html.parser\")\n",
    "price=[]\n",
    "\n"
   ]
  },
  {
   "cell_type": "code",
   "execution_count": 69,
   "metadata": {},
   "outputs": [],
   "source": [
    "#Append it to a list\n",
    "html = browser.html\n",
    "soup = BeautifulSoup(html, \"html.parser\")\n",
    "elements = soup.find_all(class_=\"price\")\n",
    "for e in elements:\n",
    "    try:\n",
    "        price = element.find_all(\"span\")[1].text\n",
    "        price = price.replace(\",\", \"\").replace(\"+\", \"\").replace(\"$\", \"\").lower()\n",
    "        print(int(price))\n",
    "    except ElementDoesNotExist as exception:\n",
    "        print(\"Nan\") \n",
    "\n",
    "        \n",
    "#price = soup.find('span', {'class': 'zsg-photo-card-price'}).text\n",
    "#info = soup.find('span', {'class': 'zsg-photo-card-info'}).text\n",
    "#address = soup.find('span', {'itemprop': 'address'}).text"
   ]
  },
  {
   "cell_type": "code",
   "execution_count": 70,
   "metadata": {},
   "outputs": [
    {
     "data": {
      "text/html": [
       "<div>\n",
       "<style scoped>\n",
       "    .dataframe tbody tr th:only-of-type {\n",
       "        vertical-align: middle;\n",
       "    }\n",
       "\n",
       "    .dataframe tbody tr th {\n",
       "        vertical-align: top;\n",
       "    }\n",
       "\n",
       "    .dataframe thead th {\n",
       "        text-align: right;\n",
       "    }\n",
       "</style>\n",
       "<table border=\"1\" class=\"dataframe\">\n",
       "  <thead>\n",
       "    <tr style=\"text-align: right;\">\n",
       "      <th></th>\n",
       "      <th>Price</th>\n",
       "    </tr>\n",
       "  </thead>\n",
       "  <tbody>\n",
       "    <tr>\n",
       "      <th>0</th>\n",
       "      <td>$529,900</td>\n",
       "    </tr>\n",
       "    <tr>\n",
       "      <th>1</th>\n",
       "      <td>$450,000</td>\n",
       "    </tr>\n",
       "    <tr>\n",
       "      <th>2</th>\n",
       "      <td>$599,900</td>\n",
       "    </tr>\n",
       "    <tr>\n",
       "      <th>3</th>\n",
       "      <td>$1,199,000</td>\n",
       "    </tr>\n",
       "    <tr>\n",
       "      <th>4</th>\n",
       "      <td>$799,900</td>\n",
       "    </tr>\n",
       "    <tr>\n",
       "      <th>5</th>\n",
       "      <td>$999,000</td>\n",
       "    </tr>\n",
       "    <tr>\n",
       "      <th>6</th>\n",
       "      <td>$3,750,000</td>\n",
       "    </tr>\n",
       "    <tr>\n",
       "      <th>7</th>\n",
       "      <td>$835,000</td>\n",
       "    </tr>\n",
       "    <tr>\n",
       "      <th>8</th>\n",
       "      <td>$682,000</td>\n",
       "    </tr>\n",
       "    <tr>\n",
       "      <th>9</th>\n",
       "      <td>$1,399,000</td>\n",
       "    </tr>\n",
       "    <tr>\n",
       "      <th>10</th>\n",
       "      <td>$989,000</td>\n",
       "    </tr>\n",
       "    <tr>\n",
       "      <th>11</th>\n",
       "      <td>$569,500</td>\n",
       "    </tr>\n",
       "    <tr>\n",
       "      <th>12</th>\n",
       "      <td>$939,000</td>\n",
       "    </tr>\n",
       "    <tr>\n",
       "      <th>13</th>\n",
       "      <td>$1,775,000</td>\n",
       "    </tr>\n",
       "    <tr>\n",
       "      <th>14</th>\n",
       "      <td>$1,099,000</td>\n",
       "    </tr>\n",
       "    <tr>\n",
       "      <th>15</th>\n",
       "      <td>$549,900</td>\n",
       "    </tr>\n",
       "    <tr>\n",
       "      <th>16</th>\n",
       "      <td>$775,000</td>\n",
       "    </tr>\n",
       "    <tr>\n",
       "      <th>17</th>\n",
       "      <td>$6,900,000</td>\n",
       "    </tr>\n",
       "    <tr>\n",
       "      <th>18</th>\n",
       "      <td>$565,000</td>\n",
       "    </tr>\n",
       "    <tr>\n",
       "      <th>19</th>\n",
       "      <td>$715,000</td>\n",
       "    </tr>\n",
       "    <tr>\n",
       "      <th>20</th>\n",
       "      <td>$1,599,000</td>\n",
       "    </tr>\n",
       "    <tr>\n",
       "      <th>21</th>\n",
       "      <td>$430,000</td>\n",
       "    </tr>\n",
       "    <tr>\n",
       "      <th>22</th>\n",
       "      <td>$2,250,000</td>\n",
       "    </tr>\n",
       "    <tr>\n",
       "      <th>23</th>\n",
       "      <td>$4,495,000</td>\n",
       "    </tr>\n",
       "  </tbody>\n",
       "</table>\n",
       "</div>"
      ],
      "text/plain": [
       "         Price\n",
       "0     $529,900\n",
       "1     $450,000\n",
       "2     $599,900\n",
       "3   $1,199,000\n",
       "4     $799,900\n",
       "5     $999,000\n",
       "6   $3,750,000\n",
       "7     $835,000\n",
       "8     $682,000\n",
       "9   $1,399,000\n",
       "10    $989,000\n",
       "11    $569,500\n",
       "12    $939,000\n",
       "13  $1,775,000\n",
       "14  $1,099,000\n",
       "15    $549,900\n",
       "16    $775,000\n",
       "17  $6,900,000\n",
       "18    $565,000\n",
       "19    $715,000\n",
       "20  $1,599,000\n",
       "21    $430,000\n",
       "22  $2,250,000\n",
       "23  $4,495,000"
      ]
     },
     "execution_count": 70,
     "metadata": {},
     "output_type": "execute_result"
    }
   ],
   "source": [
    "price_df=pd.DataFrame(price)\n",
    "price_df\n",
    "price_df.columns = [\"Price\"]\n",
    "price_df"
   ]
  },
  {
   "cell_type": "code",
   "execution_count": 51,
   "metadata": {},
   "outputs": [
    {
     "name": "stdout",
     "output_type": "stream",
     "text": [
      "[<span class=\"zsg-photo-card-info\">3 bds <span class=\"interpunct\">·</span> 2 ba <span class=\"interpunct\">·</span> 1,208 sqft</span>, <span class=\"zsg-photo-card-info\">Studio <span class=\"interpunct\">·</span> 1 ba <span class=\"interpunct\">·</span> 1,024 sqft</span>, <span class=\"zsg-photo-card-info\">3 bds <span class=\"interpunct\">·</span> 2 ba <span class=\"interpunct\">·</span> 1,367 sqft</span>, <span class=\"zsg-photo-card-info\">5 bds <span class=\"interpunct\">·</span> 3 ba <span class=\"interpunct\">·</span> 2,400 sqft</span>, <span class=\"zsg-photo-card-info\">4 bds <span class=\"interpunct\">·</span> 3 ba <span class=\"interpunct\">·</span> 1,665 sqft</span>, <span class=\"zsg-photo-card-info\">3 bds <span class=\"interpunct\">·</span> 3 ba <span class=\"interpunct\">·</span> 2,269 sqft</span>, <span class=\"zsg-photo-card-info\">5 bds <span class=\"interpunct\">·</span> 4 ba <span class=\"interpunct\">·</span> 3,950 sqft</span>, <span class=\"zsg-photo-card-info\">6 bds <span class=\"interpunct\">·</span> 7 ba <span class=\"interpunct\">·</span> 10,112 sqft</span>, <span class=\"zsg-photo-card-info\">3 bds <span class=\"interpunct\">·</span> 3 ba <span class=\"interpunct\">·</span> 2,721 sqft</span>, <span class=\"zsg-photo-card-info\">3 bds <span class=\"interpunct\">·</span> 2 ba <span class=\"interpunct\">·</span> 2,295 sqft</span>, <span class=\"zsg-photo-card-info\">7 bds <span class=\"interpunct\">·</span> 7 ba <span class=\"interpunct\">·</span> 4,050 sqft</span>, <span class=\"zsg-photo-card-info\">4 bds <span class=\"interpunct\">·</span> 3 ba <span class=\"interpunct\">·</span> 2,400 sqft</span>, <span class=\"zsg-photo-card-info\">3 bds <span class=\"interpunct\">·</span> 2 ba <span class=\"interpunct\">·</span> 1,175 sqft</span>, <span class=\"zsg-photo-card-info\">4 bds <span class=\"interpunct\">·</span> 4 ba <span class=\"interpunct\">·</span> 2,770 sqft</span>, <span class=\"zsg-photo-card-info\">6 bds <span class=\"interpunct\">·</span> 5 ba <span class=\"interpunct\">·</span> 4,965 sqft</span>, <span class=\"zsg-photo-card-info\">3 bds <span class=\"interpunct\">·</span> 3 ba <span class=\"interpunct\">·</span> 1,904 sqft</span>, <span class=\"zsg-photo-card-info\">5 bds <span class=\"interpunct\">·</span> 2 ba <span class=\"interpunct\">·</span> 2,340 sqft</span>, <span class=\"zsg-photo-card-info\">3 bds <span class=\"interpunct\">·</span> 2 ba <span class=\"interpunct\">·</span> 1,777 sqft</span>, <span class=\"zsg-photo-card-info\">6 bds <span class=\"interpunct\">·</span> 5 ba <span class=\"interpunct\">·</span> 8,145 sqft</span>, <span class=\"zsg-photo-card-info\">3 bds <span class=\"interpunct\">·</span> 2 ba <span class=\"interpunct\">·</span> 1,200 sqft</span>, <span class=\"zsg-photo-card-info\">3 bds <span class=\"interpunct\">·</span> 2 ba <span class=\"interpunct\">·</span> 1,178 sqft</span>, <span class=\"zsg-photo-card-info\">5 bds <span class=\"interpunct\">·</span> 4 ba <span class=\"interpunct\">·</span> 4,100 sqft</span>, <span class=\"zsg-photo-card-info\">3 bds <span class=\"interpunct\">·</span> 1.5 ba <span class=\"interpunct\">·</span> 1,324 sqft</span>, <span class=\"zsg-photo-card-info\">6 bds <span class=\"interpunct\">·</span> 6 ba <span class=\"interpunct\">·</span> 6,867 sqft</span>, <span class=\"zsg-photo-card-info\">6 bds <span class=\"interpunct\">·</span> 4.5 ba <span class=\"interpunct\">·</span> 5,259 sqft</span>]\n"
     ]
    }
   ],
   "source": [
    "#Scrape info data including no.of bedrooms, bathrooms and sqft.\n",
    "soup = BeautifulSoup(html, \"html.parser\")\n",
    "info=[]\n",
    "details=soup.find_all('span', {'class': 'zsg-photo-card-info'})\n",
    "print(details)"
   ]
  },
  {
   "cell_type": "code",
   "execution_count": 52,
   "metadata": {},
   "outputs": [],
   "source": [
    "#Append it to a list\n",
    "for d in details:\n",
    "    try:\n",
    "        details=d.text\n",
    "        info.append(details)\n",
    "    except ElementDoesNotExist as exception:\n",
    "        print(\"Element does not Exist\")"
   ]
  },
  {
   "cell_type": "code",
   "execution_count": 53,
   "metadata": {},
   "outputs": [
    {
     "data": {
      "text/plain": [
       "['3 bds · 2 ba · 1,208 sqft',\n",
       " 'Studio · 1 ba · 1,024 sqft',\n",
       " '3 bds · 2 ba · 1,367 sqft',\n",
       " '5 bds · 3 ba · 2,400 sqft',\n",
       " '4 bds · 3 ba · 1,665 sqft',\n",
       " '3 bds · 3 ba · 2,269 sqft',\n",
       " '5 bds · 4 ba · 3,950 sqft',\n",
       " '6 bds · 7 ba · 10,112 sqft',\n",
       " '3 bds · 3 ba · 2,721 sqft',\n",
       " '3 bds · 2 ba · 2,295 sqft',\n",
       " '7 bds · 7 ba · 4,050 sqft',\n",
       " '4 bds · 3 ba · 2,400 sqft',\n",
       " '3 bds · 2 ba · 1,175 sqft',\n",
       " '4 bds · 4 ba · 2,770 sqft',\n",
       " '6 bds · 5 ba · 4,965 sqft',\n",
       " '3 bds · 3 ba · 1,904 sqft',\n",
       " '5 bds · 2 ba · 2,340 sqft',\n",
       " '3 bds · 2 ba · 1,777 sqft',\n",
       " '6 bds · 5 ba · 8,145 sqft',\n",
       " '3 bds · 2 ba · 1,200 sqft',\n",
       " '3 bds · 2 ba · 1,178 sqft',\n",
       " '5 bds · 4 ba · 4,100 sqft',\n",
       " '3 bds · 1.5 ba · 1,324 sqft',\n",
       " '6 bds · 6 ba · 6,867 sqft',\n",
       " '6 bds · 4.5 ba · 5,259 sqft']"
      ]
     },
     "execution_count": 53,
     "metadata": {},
     "output_type": "execute_result"
    }
   ],
   "source": [
    "info\n"
   ]
  },
  {
   "cell_type": "code",
   "execution_count": 54,
   "metadata": {},
   "outputs": [
    {
     "name": "stdout",
     "output_type": "stream",
     "text": [
      "[<span class=\"hide\" itemprop=\"address\" itemscope=\"\" itemtype=\"http://schema.org/PostalAddress\"><span itemprop=\"streetAddress\">229 N Henry St</span><span itemprop=\"addressLocality\"> Alexandria </span><span itemprop=\"addressRegion\">VA </span><span class=\"hide\" itemprop=\"postalCode\">22314</span></span>, <span class=\"hide\" itemprop=\"address\" itemscope=\"\" itemtype=\"http://schema.org/PostalAddress\"><span itemprop=\"streetAddress\">Edison St</span><span itemprop=\"addressLocality\"> Alexandria </span><span itemprop=\"addressRegion\">VA </span><span class=\"hide\" itemprop=\"postalCode\">22305</span></span>, <span class=\"hide\" itemprop=\"address\" itemscope=\"\" itemtype=\"http://schema.org/PostalAddress\"><span itemprop=\"streetAddress\">4431 Venable Ave</span><span itemprop=\"addressLocality\"> Alexandria </span><span itemprop=\"addressRegion\">VA </span><span class=\"hide\" itemprop=\"postalCode\">22304</span></span>, <span class=\"hide\" itemprop=\"address\" itemscope=\"\" itemtype=\"http://schema.org/PostalAddress\"><span itemprop=\"streetAddress\">3301 King St</span><span itemprop=\"addressLocality\"> Alexandria </span><span itemprop=\"addressRegion\">VA </span><span class=\"hide\" itemprop=\"postalCode\">22302</span></span>, <span class=\"hide\" itemprop=\"address\" itemscope=\"\" itemtype=\"http://schema.org/PostalAddress\"><span itemprop=\"streetAddress\">2508 Leslie Ave</span><span itemprop=\"addressLocality\"> Alexandria </span><span itemprop=\"addressRegion\">VA </span><span class=\"hide\" itemprop=\"postalCode\">22301</span></span>, <span class=\"hide\" itemprop=\"address\" itemscope=\"\" itemtype=\"http://schema.org/PostalAddress\"><span itemprop=\"streetAddress\">3655 Trinity Dr</span><span itemprop=\"addressLocality\"> Alexandria </span><span itemprop=\"addressRegion\">VA </span><span class=\"hide\" itemprop=\"postalCode\">22304</span></span>, <span class=\"hide\" itemprop=\"address\" itemscope=\"\" itemtype=\"http://schema.org/PostalAddress\"><span itemprop=\"streetAddress\">109 Ashby St</span><span itemprop=\"addressLocality\"> Alexandria </span><span itemprop=\"addressRegion\">VA </span><span class=\"hide\" itemprop=\"postalCode\">22305</span></span>, <span class=\"hide\" itemprop=\"address\" itemscope=\"\" itemtype=\"http://schema.org/PostalAddress\"><span itemprop=\"streetAddress\">110 S Pitt St</span><span itemprop=\"addressLocality\"> Alexandria </span><span itemprop=\"addressRegion\">VA </span><span class=\"hide\" itemprop=\"postalCode\">22314</span></span>, <span class=\"hide\" itemprop=\"address\" itemscope=\"\" itemtype=\"http://schema.org/PostalAddress\"><span itemprop=\"streetAddress\">620 Mckenzie Ave</span><span itemprop=\"addressLocality\"> Alexandria </span><span itemprop=\"addressRegion\">VA </span><span class=\"hide\" itemprop=\"postalCode\">22301</span></span>, <span class=\"hide\" itemprop=\"address\" itemscope=\"\" itemtype=\"http://schema.org/PostalAddress\"><span itemprop=\"streetAddress\">1001 Woods Pl</span><span itemprop=\"addressLocality\"> Alexandria </span><span itemprop=\"addressRegion\">VA </span><span class=\"hide\" itemprop=\"postalCode\">22302</span></span>, <span class=\"hide\" itemprop=\"address\" itemscope=\"\" itemtype=\"http://schema.org/PostalAddress\"><span itemprop=\"streetAddress\">605 Malcolm Pl</span><span itemprop=\"addressLocality\"> Alexandria </span><span itemprop=\"addressRegion\">VA </span><span class=\"hide\" itemprop=\"postalCode\">22302</span></span>, <span class=\"hide\" itemprop=\"address\" itemscope=\"\" itemtype=\"http://schema.org/PostalAddress\"><span itemprop=\"streetAddress\">2415 Davis Ave</span><span itemprop=\"addressLocality\"> Alexandria </span><span itemprop=\"addressRegion\">VA </span><span class=\"hide\" itemprop=\"postalCode\">22302</span></span>, <span class=\"hide\" itemprop=\"address\" itemscope=\"\" itemtype=\"http://schema.org/PostalAddress\"><span itemprop=\"streetAddress\">4631 Raleigh Ave</span><span itemprop=\"addressLocality\"> Alexandria </span><span itemprop=\"addressRegion\">VA </span><span class=\"hide\" itemprop=\"postalCode\">22304</span></span>, <span class=\"hide\" itemprop=\"address\" itemscope=\"\" itemtype=\"http://schema.org/PostalAddress\"><span itemprop=\"streetAddress\">3002 Farm Rd</span><span itemprop=\"addressLocality\"> Alexandria </span><span itemprop=\"addressRegion\">VA </span><span class=\"hide\" itemprop=\"postalCode\">22302</span></span>, <span class=\"hide\" itemprop=\"address\" itemscope=\"\" itemtype=\"http://schema.org/PostalAddress\"><span itemprop=\"streetAddress\">304 Virginia Ave</span><span itemprop=\"addressLocality\"> Alexandria </span><span itemprop=\"addressRegion\">VA </span><span class=\"hide\" itemprop=\"postalCode\">22302</span></span>, <span class=\"hide\" itemprop=\"address\" itemscope=\"\" itemtype=\"http://schema.org/PostalAddress\"><span itemprop=\"streetAddress\">31 E Maple St</span><span itemprop=\"addressLocality\"> Alexandria </span><span itemprop=\"addressRegion\">VA </span><span class=\"hide\" itemprop=\"postalCode\">22301</span></span>, <span class=\"hide\" itemprop=\"address\" itemscope=\"\" itemtype=\"http://schema.org/PostalAddress\"><span itemprop=\"streetAddress\">1034 N Chambliss St</span><span itemprop=\"addressLocality\"> Alexandria </span><span itemprop=\"addressRegion\">VA </span><span class=\"hide\" itemprop=\"postalCode\">22312</span></span>, <span class=\"hide\" itemprop=\"address\" itemscope=\"\" itemtype=\"http://schema.org/PostalAddress\"><span itemprop=\"streetAddress\">2502 E Randolph Ave</span><span itemprop=\"addressLocality\"> Alexandria </span><span itemprop=\"addressRegion\">VA </span><span class=\"hide\" itemprop=\"postalCode\">22301</span></span>, <span class=\"hide\" itemprop=\"address\" itemscope=\"\" itemtype=\"http://schema.org/PostalAddress\"><span itemprop=\"streetAddress\">607 Oronoco St</span><span itemprop=\"addressLocality\"> Alexandria </span><span itemprop=\"addressRegion\">VA </span><span class=\"hide\" itemprop=\"postalCode\">22314</span></span>, <span class=\"hide\" itemprop=\"address\" itemscope=\"\" itemtype=\"http://schema.org/PostalAddress\"><span itemprop=\"streetAddress\">5139 Echols Ave</span><span itemprop=\"addressLocality\"> Alexandria </span><span itemprop=\"addressRegion\">VA </span><span class=\"hide\" itemprop=\"postalCode\">22311</span></span>, <span class=\"hide\" itemprop=\"address\" itemscope=\"\" itemtype=\"http://schema.org/PostalAddress\"><span itemprop=\"streetAddress\">1665 Francis Hammond Pkwy</span><span itemprop=\"addressLocality\"> Alexandria </span><span itemprop=\"addressRegion\">VA </span><span class=\"hide\" itemprop=\"postalCode\">22302</span></span>, <span class=\"hide\" itemprop=\"address\" itemscope=\"\" itemtype=\"http://schema.org/PostalAddress\"><span itemprop=\"streetAddress\">2301 E Randolph Ave</span><span itemprop=\"addressLocality\"> Alexandria </span><span itemprop=\"addressRegion\">VA </span><span class=\"hide\" itemprop=\"postalCode\">22301</span></span>, <span class=\"hide\" itemprop=\"address\" itemscope=\"\" itemtype=\"http://schema.org/PostalAddress\"><span itemprop=\"streetAddress\">56 S Gordon St</span><span itemprop=\"addressLocality\"> Alexandria </span><span itemprop=\"addressRegion\">VA </span><span class=\"hide\" itemprop=\"postalCode\">22304</span></span>, <span class=\"hide\" itemprop=\"address\" itemscope=\"\" itemtype=\"http://schema.org/PostalAddress\"><span itemprop=\"streetAddress\">228 W Windsor Ave</span><span itemprop=\"addressLocality\"> Alexandria </span><span itemprop=\"addressRegion\">VA </span><span class=\"hide\" itemprop=\"postalCode\">22301</span></span>, <span class=\"hide\" itemprop=\"address\" itemscope=\"\" itemtype=\"http://schema.org/PostalAddress\"><span itemprop=\"streetAddress\">224 S Lee St</span><span itemprop=\"addressLocality\"> Alexandria </span><span itemprop=\"addressRegion\">VA </span><span class=\"hide\" itemprop=\"postalCode\">22314</span></span>]\n"
     ]
    }
   ],
   "source": [
    "#Scrape address data\n",
    "html = browser.html\n",
    "soup = BeautifulSoup(html, \"html.parser\")\n",
    "address=[]\n",
    "location = soup.find_all('span', {'itemprop': 'address'})\n",
    "print(location)"
   ]
  },
  {
   "cell_type": "code",
   "execution_count": 55,
   "metadata": {},
   "outputs": [],
   "source": [
    "#Append it to a list\n",
    "for l in location:\n",
    "    try:\n",
    "        location=l.text\n",
    "        address.append(location)\n",
    "    except ElementDoesNotExist as exception:\n",
    "        print(\"Element Does Not Exist\")  \n",
    "          "
   ]
  },
  {
   "cell_type": "code",
   "execution_count": 56,
   "metadata": {},
   "outputs": [
    {
     "name": "stdout",
     "output_type": "stream",
     "text": [
      "[<span class=\"zsg-photo-card-broker-name\">Coldwell Banker Elite</span>, <span class=\"zsg-photo-card-broker-name\">TTR Sotheby's International Realty</span>, <span class=\"zsg-photo-card-broker-name\">CENTURY 21 New Millennium</span>, <span class=\"zsg-photo-card-broker-name\">Coldwell Banker Residential Brokerage - Fairfax</span>, <span class=\"zsg-photo-card-broker-name\">TTR Sotheby's International Realty</span>]\n"
     ]
    }
   ],
   "source": [
    "html = browser.html\n",
    "soup = BeautifulSoup(html, \"html.parser\")\n",
    "brokers=[] \n",
    "brokers_name= soup.find_all('span', {'class': 'zsg-photo-card-broker-name'})\n",
    "print(brokers_name)\n",
    "              "
   ]
  },
  {
   "cell_type": "code",
   "execution_count": 57,
   "metadata": {},
   "outputs": [],
   "source": [
    "for br in brokers_name:\n",
    "    try:\n",
    "        brokers_name= br.text\n",
    "        brokers.append(brokers_name)\n",
    "    except ElementDoesNotExist as exception:\n",
    "        print(\"Element does not Exist\")     "
   ]
  },
  {
   "cell_type": "code",
   "execution_count": 71,
   "metadata": {
    "scrolled": true
   },
   "outputs": [
    {
     "name": "stdout",
     "output_type": "stream",
     "text": [
      "24\n",
      "25\n",
      "25\n",
      "25\n"
     ]
    }
   ],
   "source": [
    "index=[]\n",
    "data = { 'House Url': house_links, 'Facts and Features': info, 'Address': address}\n",
    "if index is None:\n",
    "    index=extract_index(arrays)\n",
    "house_data= pd.DataFrame(data)\n",
    "\n",
    "print(len(price))\n",
    "print(len(house_links))\n",
    "print(len(info))\n",
    "print(len(address))\n",
    "\n",
    "\n",
    "\n"
   ]
  },
  {
   "cell_type": "code",
   "execution_count": 72,
   "metadata": {},
   "outputs": [
    {
     "data": {
      "text/html": [
       "<div>\n",
       "<style scoped>\n",
       "    .dataframe tbody tr th:only-of-type {\n",
       "        vertical-align: middle;\n",
       "    }\n",
       "\n",
       "    .dataframe tbody tr th {\n",
       "        vertical-align: top;\n",
       "    }\n",
       "\n",
       "    .dataframe thead th {\n",
       "        text-align: right;\n",
       "    }\n",
       "</style>\n",
       "<table border=\"1\" class=\"dataframe\">\n",
       "  <thead>\n",
       "    <tr style=\"text-align: right;\">\n",
       "      <th></th>\n",
       "      <th>House Url</th>\n",
       "      <th>Facts and Features</th>\n",
       "      <th>Address</th>\n",
       "    </tr>\n",
       "  </thead>\n",
       "  <tbody>\n",
       "    <tr>\n",
       "      <th>0</th>\n",
       "      <td>https://www.zillow.com/alexandria-va/houses//h...</td>\n",
       "      <td>3 bds · 2 ba · 1,208 sqft</td>\n",
       "      <td>229 N Henry St Alexandria VA 22314</td>\n",
       "    </tr>\n",
       "    <tr>\n",
       "      <th>1</th>\n",
       "      <td>https://www.zillow.com/alexandria-va/houses//h...</td>\n",
       "      <td>Studio · 1 ba · 1,024 sqft</td>\n",
       "      <td>Edison St Alexandria VA 22305</td>\n",
       "    </tr>\n",
       "    <tr>\n",
       "      <th>2</th>\n",
       "      <td>https://www.zillow.com/alexandria-va/houses//h...</td>\n",
       "      <td>3 bds · 2 ba · 1,367 sqft</td>\n",
       "      <td>4431 Venable Ave Alexandria VA 22304</td>\n",
       "    </tr>\n",
       "    <tr>\n",
       "      <th>3</th>\n",
       "      <td>https://www.zillow.com/alexandria-va/houses//h...</td>\n",
       "      <td>5 bds · 3 ba · 2,400 sqft</td>\n",
       "      <td>3301 King St Alexandria VA 22302</td>\n",
       "    </tr>\n",
       "    <tr>\n",
       "      <th>4</th>\n",
       "      <td>https://www.zillow.com/alexandria-va/houses//h...</td>\n",
       "      <td>4 bds · 3 ba · 1,665 sqft</td>\n",
       "      <td>2508 Leslie Ave Alexandria VA 22301</td>\n",
       "    </tr>\n",
       "    <tr>\n",
       "      <th>5</th>\n",
       "      <td>https://www.zillow.com/alexandria-va/houses//h...</td>\n",
       "      <td>3 bds · 3 ba · 2,269 sqft</td>\n",
       "      <td>3655 Trinity Dr Alexandria VA 22304</td>\n",
       "    </tr>\n",
       "    <tr>\n",
       "      <th>6</th>\n",
       "      <td>https://www.zillow.com/alexandria-va/houses//h...</td>\n",
       "      <td>5 bds · 4 ba · 3,950 sqft</td>\n",
       "      <td>109 Ashby St Alexandria VA 22305</td>\n",
       "    </tr>\n",
       "    <tr>\n",
       "      <th>7</th>\n",
       "      <td>https://www.zillow.com/alexandria-va/houses//h...</td>\n",
       "      <td>6 bds · 7 ba · 10,112 sqft</td>\n",
       "      <td>110 S Pitt St Alexandria VA 22314</td>\n",
       "    </tr>\n",
       "    <tr>\n",
       "      <th>8</th>\n",
       "      <td>https://www.zillow.com/alexandria-va/houses//h...</td>\n",
       "      <td>3 bds · 3 ba · 2,721 sqft</td>\n",
       "      <td>620 Mckenzie Ave Alexandria VA 22301</td>\n",
       "    </tr>\n",
       "    <tr>\n",
       "      <th>9</th>\n",
       "      <td>https://www.zillow.com/alexandria-va/houses//h...</td>\n",
       "      <td>3 bds · 2 ba · 2,295 sqft</td>\n",
       "      <td>1001 Woods Pl Alexandria VA 22302</td>\n",
       "    </tr>\n",
       "    <tr>\n",
       "      <th>10</th>\n",
       "      <td>https://www.zillow.com/alexandria-va/houses//h...</td>\n",
       "      <td>7 bds · 7 ba · 4,050 sqft</td>\n",
       "      <td>605 Malcolm Pl Alexandria VA 22302</td>\n",
       "    </tr>\n",
       "    <tr>\n",
       "      <th>11</th>\n",
       "      <td>https://www.zillow.com/alexandria-va/houses//h...</td>\n",
       "      <td>4 bds · 3 ba · 2,400 sqft</td>\n",
       "      <td>2415 Davis Ave Alexandria VA 22302</td>\n",
       "    </tr>\n",
       "    <tr>\n",
       "      <th>12</th>\n",
       "      <td>https://www.zillow.com/alexandria-va/houses//h...</td>\n",
       "      <td>3 bds · 2 ba · 1,175 sqft</td>\n",
       "      <td>4631 Raleigh Ave Alexandria VA 22304</td>\n",
       "    </tr>\n",
       "    <tr>\n",
       "      <th>13</th>\n",
       "      <td>https://www.zillow.com/alexandria-va/houses//h...</td>\n",
       "      <td>4 bds · 4 ba · 2,770 sqft</td>\n",
       "      <td>3002 Farm Rd Alexandria VA 22302</td>\n",
       "    </tr>\n",
       "    <tr>\n",
       "      <th>14</th>\n",
       "      <td>https://www.zillow.com/alexandria-va/houses//h...</td>\n",
       "      <td>6 bds · 5 ba · 4,965 sqft</td>\n",
       "      <td>304 Virginia Ave Alexandria VA 22302</td>\n",
       "    </tr>\n",
       "    <tr>\n",
       "      <th>15</th>\n",
       "      <td>https://www.zillow.com/alexandria-va/houses//h...</td>\n",
       "      <td>3 bds · 3 ba · 1,904 sqft</td>\n",
       "      <td>31 E Maple St Alexandria VA 22301</td>\n",
       "    </tr>\n",
       "    <tr>\n",
       "      <th>16</th>\n",
       "      <td>https://www.zillow.com/alexandria-va/houses//h...</td>\n",
       "      <td>5 bds · 2 ba · 2,340 sqft</td>\n",
       "      <td>1034 N Chambliss St Alexandria VA 22312</td>\n",
       "    </tr>\n",
       "    <tr>\n",
       "      <th>17</th>\n",
       "      <td>https://www.zillow.com/alexandria-va/houses//h...</td>\n",
       "      <td>3 bds · 2 ba · 1,777 sqft</td>\n",
       "      <td>2502 E Randolph Ave Alexandria VA 22301</td>\n",
       "    </tr>\n",
       "    <tr>\n",
       "      <th>18</th>\n",
       "      <td>https://www.zillow.com/alexandria-va/houses//h...</td>\n",
       "      <td>6 bds · 5 ba · 8,145 sqft</td>\n",
       "      <td>607 Oronoco St Alexandria VA 22314</td>\n",
       "    </tr>\n",
       "    <tr>\n",
       "      <th>19</th>\n",
       "      <td>https://www.zillow.com/alexandria-va/houses//h...</td>\n",
       "      <td>3 bds · 2 ba · 1,200 sqft</td>\n",
       "      <td>5139 Echols Ave Alexandria VA 22311</td>\n",
       "    </tr>\n",
       "    <tr>\n",
       "      <th>20</th>\n",
       "      <td>https://www.zillow.com/alexandria-va/houses//h...</td>\n",
       "      <td>3 bds · 2 ba · 1,178 sqft</td>\n",
       "      <td>1665 Francis Hammond Pkwy Alexandria VA 22302</td>\n",
       "    </tr>\n",
       "    <tr>\n",
       "      <th>21</th>\n",
       "      <td>https://www.zillow.com/alexandria-va/houses//h...</td>\n",
       "      <td>5 bds · 4 ba · 4,100 sqft</td>\n",
       "      <td>2301 E Randolph Ave Alexandria VA 22301</td>\n",
       "    </tr>\n",
       "    <tr>\n",
       "      <th>22</th>\n",
       "      <td>https://www.zillow.com/alexandria-va/houses//h...</td>\n",
       "      <td>3 bds · 1.5 ba · 1,324 sqft</td>\n",
       "      <td>56 S Gordon St Alexandria VA 22304</td>\n",
       "    </tr>\n",
       "    <tr>\n",
       "      <th>23</th>\n",
       "      <td>https://www.zillow.com/alexandria-va/houses//h...</td>\n",
       "      <td>6 bds · 6 ba · 6,867 sqft</td>\n",
       "      <td>228 W Windsor Ave Alexandria VA 22301</td>\n",
       "    </tr>\n",
       "    <tr>\n",
       "      <th>24</th>\n",
       "      <td>https://www.zillow.com/alexandria-va/houses//h...</td>\n",
       "      <td>6 bds · 4.5 ba · 5,259 sqft</td>\n",
       "      <td>224 S Lee St Alexandria VA 22314</td>\n",
       "    </tr>\n",
       "  </tbody>\n",
       "</table>\n",
       "</div>"
      ],
      "text/plain": [
       "                                            House Url  \\\n",
       "0   https://www.zillow.com/alexandria-va/houses//h...   \n",
       "1   https://www.zillow.com/alexandria-va/houses//h...   \n",
       "2   https://www.zillow.com/alexandria-va/houses//h...   \n",
       "3   https://www.zillow.com/alexandria-va/houses//h...   \n",
       "4   https://www.zillow.com/alexandria-va/houses//h...   \n",
       "5   https://www.zillow.com/alexandria-va/houses//h...   \n",
       "6   https://www.zillow.com/alexandria-va/houses//h...   \n",
       "7   https://www.zillow.com/alexandria-va/houses//h...   \n",
       "8   https://www.zillow.com/alexandria-va/houses//h...   \n",
       "9   https://www.zillow.com/alexandria-va/houses//h...   \n",
       "10  https://www.zillow.com/alexandria-va/houses//h...   \n",
       "11  https://www.zillow.com/alexandria-va/houses//h...   \n",
       "12  https://www.zillow.com/alexandria-va/houses//h...   \n",
       "13  https://www.zillow.com/alexandria-va/houses//h...   \n",
       "14  https://www.zillow.com/alexandria-va/houses//h...   \n",
       "15  https://www.zillow.com/alexandria-va/houses//h...   \n",
       "16  https://www.zillow.com/alexandria-va/houses//h...   \n",
       "17  https://www.zillow.com/alexandria-va/houses//h...   \n",
       "18  https://www.zillow.com/alexandria-va/houses//h...   \n",
       "19  https://www.zillow.com/alexandria-va/houses//h...   \n",
       "20  https://www.zillow.com/alexandria-va/houses//h...   \n",
       "21  https://www.zillow.com/alexandria-va/houses//h...   \n",
       "22  https://www.zillow.com/alexandria-va/houses//h...   \n",
       "23  https://www.zillow.com/alexandria-va/houses//h...   \n",
       "24  https://www.zillow.com/alexandria-va/houses//h...   \n",
       "\n",
       "             Facts and Features                                        Address  \n",
       "0     3 bds · 2 ba · 1,208 sqft             229 N Henry St Alexandria VA 22314  \n",
       "1    Studio · 1 ba · 1,024 sqft                  Edison St Alexandria VA 22305  \n",
       "2     3 bds · 2 ba · 1,367 sqft           4431 Venable Ave Alexandria VA 22304  \n",
       "3     5 bds · 3 ba · 2,400 sqft               3301 King St Alexandria VA 22302  \n",
       "4     4 bds · 3 ba · 1,665 sqft            2508 Leslie Ave Alexandria VA 22301  \n",
       "5     3 bds · 3 ba · 2,269 sqft            3655 Trinity Dr Alexandria VA 22304  \n",
       "6     5 bds · 4 ba · 3,950 sqft               109 Ashby St Alexandria VA 22305  \n",
       "7    6 bds · 7 ba · 10,112 sqft              110 S Pitt St Alexandria VA 22314  \n",
       "8     3 bds · 3 ba · 2,721 sqft           620 Mckenzie Ave Alexandria VA 22301  \n",
       "9     3 bds · 2 ba · 2,295 sqft              1001 Woods Pl Alexandria VA 22302  \n",
       "10    7 bds · 7 ba · 4,050 sqft             605 Malcolm Pl Alexandria VA 22302  \n",
       "11    4 bds · 3 ba · 2,400 sqft             2415 Davis Ave Alexandria VA 22302  \n",
       "12    3 bds · 2 ba · 1,175 sqft           4631 Raleigh Ave Alexandria VA 22304  \n",
       "13    4 bds · 4 ba · 2,770 sqft               3002 Farm Rd Alexandria VA 22302  \n",
       "14    6 bds · 5 ba · 4,965 sqft           304 Virginia Ave Alexandria VA 22302  \n",
       "15    3 bds · 3 ba · 1,904 sqft              31 E Maple St Alexandria VA 22301  \n",
       "16    5 bds · 2 ba · 2,340 sqft        1034 N Chambliss St Alexandria VA 22312  \n",
       "17    3 bds · 2 ba · 1,777 sqft        2502 E Randolph Ave Alexandria VA 22301  \n",
       "18    6 bds · 5 ba · 8,145 sqft             607 Oronoco St Alexandria VA 22314  \n",
       "19    3 bds · 2 ba · 1,200 sqft            5139 Echols Ave Alexandria VA 22311  \n",
       "20    3 bds · 2 ba · 1,178 sqft  1665 Francis Hammond Pkwy Alexandria VA 22302  \n",
       "21    5 bds · 4 ba · 4,100 sqft        2301 E Randolph Ave Alexandria VA 22301  \n",
       "22  3 bds · 1.5 ba · 1,324 sqft             56 S Gordon St Alexandria VA 22304  \n",
       "23    6 bds · 6 ba · 6,867 sqft          228 W Windsor Ave Alexandria VA 22301  \n",
       "24  6 bds · 4.5 ba · 5,259 sqft               224 S Lee St Alexandria VA 22314  "
      ]
     },
     "execution_count": 72,
     "metadata": {},
     "output_type": "execute_result"
    }
   ],
   "source": [
    "house_data"
   ]
  },
  {
   "cell_type": "code",
   "execution_count": 74,
   "metadata": {},
   "outputs": [],
   "source": [
    "house_data.to_csv('Alexandria Home Listings.csv')"
   ]
  },
  {
   "cell_type": "code",
   "execution_count": null,
   "metadata": {},
   "outputs": [],
   "source": []
  }
 ],
 "metadata": {
  "kernelspec": {
   "display_name": "Python 3",
   "language": "python",
   "name": "python3"
  },
  "language_info": {
   "codemirror_mode": {
    "name": "ipython",
    "version": 3
   },
   "file_extension": ".py",
   "mimetype": "text/x-python",
   "name": "python",
   "nbconvert_exporter": "python",
   "pygments_lexer": "ipython3",
   "version": "3.7.1"
  }
 },
 "nbformat": 4,
 "nbformat_minor": 2
}
